{
 "cells": [
  {
   "cell_type": "markdown",
   "metadata": {},
   "source": [
    "## What is Stemming ?\n",
    "Stemming is a text processing technique used in Natural Language Processing (NLP) to reduce words to their base or root form. The goal is to group together different forms of a word so they can be analyzed as a single item. For example, the words \"running,\" \"runner,\" and \"ran\" can all be reduced to the root word \"run.\" Stemming helps in simplifying text data and improving the performance of NLP tasks like search and text analysis by treating related words as equivalent."
   ]
  },
  {
   "cell_type": "markdown",
   "metadata": {},
   "source": [
    "### Usecase : Classify the comments of any products in positive review or negative review\n",
    "If the review consists of these words -> eating, eat, going, gone, go. These words are not useful in our classification also all these words have the same meaning ( context ) instead of using all these words we can just use the base word only which is we are going to the stem/root of each word this is stemming"
   ]
  },
  {
   "cell_type": "code",
   "execution_count": 3,
   "metadata": {},
   "outputs": [],
   "source": [
    "WORDS = [\n",
    "    \"Running\", \"Runner\", \"Ran\", \"Runs\",\n",
    "    \"Happily\", \"Happiness\", \"Happy\",\n",
    "    \"Studies\", \"Studying\", \"Studied\", \"Study\",\n",
    "    \"Cars\", \"Car\",\n",
    "    \"Caring\", \"Cared\", \"Cares\",\n",
    "    \"Leaves\", \"Leaving\", \"Left\", \"Leaf\"\n",
    "]"
   ]
  },
  {
   "cell_type": "code",
   "execution_count": 4,
   "metadata": {},
   "outputs": [
    {
     "name": "stdout",
     "output_type": "stream",
     "text": [
      "Running ----> run\n",
      "Runner ----> runner\n",
      "Ran ----> ran\n",
      "Runs ----> run\n",
      "Happily ----> happili\n",
      "Happiness ----> happi\n",
      "Happy ----> happi\n",
      "Studies ----> studi\n",
      "Studying ----> studi\n",
      "Studied ----> studi\n",
      "Study ----> studi\n",
      "Cars ----> car\n",
      "Car ----> car\n",
      "Caring ----> care\n",
      "Cared ----> care\n",
      "Cares ----> care\n",
      "Leaves ----> leav\n",
      "Leaving ----> leav\n",
      "Left ----> left\n",
      "Leaf ----> leaf\n"
     ]
    }
   ],
   "source": [
    "from nltk.stem import PorterStemmer\n",
    "stemming = PorterStemmer()\n",
    "for word in WORDS:\n",
    "    print(f\"{word} ----> {stemming.stem(word)}\")"
   ]
  },
  {
   "cell_type": "markdown",
   "metadata": {},
   "source": [
    "#### Issues with Stemming : for some the words we wont get the exact meaning eg : \"Study ----> studi\"\n",
    "#### This we resolve this with the help of lemmetization "
   ]
  },
  {
   "cell_type": "code",
   "execution_count": 6,
   "metadata": {},
   "outputs": [
    {
     "data": {
      "text/plain": [
       "'congragul'"
      ]
     },
     "execution_count": 6,
     "metadata": {},
     "output_type": "execute_result"
    }
   ],
   "source": [
    "# Disadvantage example - \n",
    "stemming.stem(\"Congragulations\") # 'congragul'"
   ]
  },
  {
   "cell_type": "markdown",
   "metadata": {},
   "source": [
    "### RegexpStemmer :\n",
    "In NLTK is a customizable stemming tool that uses regular expressions to reduce words to their root form based on user-defined patterns."
   ]
  },
  {
   "cell_type": "code",
   "execution_count": 9,
   "metadata": {},
   "outputs": [
    {
     "name": "stdout",
     "output_type": "stream",
     "text": [
      "eat\n",
      "ingeat\n"
     ]
    }
   ],
   "source": [
    "from nltk.stem import RegexpStemmer\n",
    "\n",
    "regexp_stemmer = RegexpStemmer('ing$|s$|e$|able$', min=4) # regular expression passed here will be removed from the og-data words\n",
    "print(regexp_stemmer.stem('eating'))\n",
    "print(regexp_stemmer.stem('ingeating')) # since in the regular expression we have kept ing with $ it will remove the last "
   ]
  },
  {
   "cell_type": "markdown",
   "metadata": {},
   "source": [
    "### Snowball Stemmer : \n",
    "In NLTK is a versatile stemming tool that supports multiple languages, using a more advanced algorithm than the Porter stemmer to reduce words to their root form."
   ]
  },
  {
   "cell_type": "code",
   "execution_count": 10,
   "metadata": {},
   "outputs": [
    {
     "name": "stdout",
     "output_type": "stream",
     "text": [
      "Running ---> run\n",
      "Runner ---> runner\n",
      "Ran ---> ran\n",
      "Runs ---> run\n",
      "Happily ---> happili\n",
      "Happiness ---> happi\n",
      "Happy ---> happi\n",
      "Studies ---> studi\n",
      "Studying ---> studi\n",
      "Studied ---> studi\n",
      "Study ---> studi\n",
      "Cars ---> car\n",
      "Car ---> car\n",
      "Caring ---> care\n",
      "Cared ---> care\n",
      "Cares ---> care\n",
      "Leaves ---> leav\n",
      "Leaving ---> leav\n",
      "Left ---> left\n",
      "Leaf ---> leaf\n"
     ]
    }
   ],
   "source": [
    "from nltk.stem import SnowballStemmer\n",
    "\n",
    "snowball_stemmer = SnowballStemmer('english')\n",
    "\n",
    "for word in WORDS:\n",
    "    print(fr\"{word} ---> {snowball_stemmer.stem(word)}\")"
   ]
  },
  {
   "cell_type": "markdown",
   "metadata": {},
   "source": [
    "#### Stemmer vs SnowballStemmer"
   ]
  },
  {
   "cell_type": "code",
   "execution_count": 17,
   "metadata": {},
   "outputs": [
    {
     "name": "stdout",
     "output_type": "stream",
     "text": [
      "fairli sportingli\n",
      "fair sport\n"
     ]
    }
   ],
   "source": [
    "print(stemming.stem('fairly'), stemming.stem('sportingly'))\n",
    "print(snowball_stemmer.stem('fairly'), snowball_stemmer.stem('sportingly'))\n"
   ]
  },
  {
   "cell_type": "code",
   "execution_count": null,
   "metadata": {},
   "outputs": [],
   "source": []
  }
 ],
 "metadata": {
  "kernelspec": {
   "display_name": "NLP-Tut-fo0Vo1Jx",
   "language": "python",
   "name": "python3"
  },
  "language_info": {
   "codemirror_mode": {
    "name": "ipython",
    "version": 3
   },
   "file_extension": ".py",
   "mimetype": "text/x-python",
   "name": "python",
   "nbconvert_exporter": "python",
   "pygments_lexer": "ipython3",
   "version": "3.10.12"
  }
 },
 "nbformat": 4,
 "nbformat_minor": 2
}
